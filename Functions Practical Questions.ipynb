{
 "cells": [
  {
   "cell_type": "code",
   "execution_count": 1,
   "id": "e42fa903",
   "metadata": {},
   "outputs": [],
   "source": [
    "# 1. Function to sum even numbers in a list\n",
    "def sum_even_numbers(lst):\n",
    "    return sum(num for num in lst if num % 2 == 0)"
   ]
  },
  {
   "cell_type": "code",
   "execution_count": 2,
   "id": "bc8119c6",
   "metadata": {},
   "outputs": [],
   "source": [
    "# 2. Function to reverse a string\n",
    "def reverse_string(s):\n",
    "    return s[::-1]"
   ]
  },
  {
   "cell_type": "code",
   "execution_count": 3,
   "id": "30d79eb7",
   "metadata": {},
   "outputs": [],
   "source": [
    "# 3. Function to return a list of squares\n",
    "def square_numbers(lst):\n",
    "    return [num ** 2 for num in lst]"
   ]
  },
  {
   "cell_type": "code",
   "execution_count": 4,
   "id": "f56933fe",
   "metadata": {},
   "outputs": [],
   "source": [
    "# 4. Function to check if a number is prime from 1 to 200\n",
    "def is_prime(n):\n",
    "    if n < 2:\n",
    "        return False\n",
    "    for i in range(2, int(n ** 0.5) + 1):\n",
    "        if n % i == 0:\n",
    "            return False\n",
    "    return True\n",
    "\n",
    "primes = [n for n in range(1, 201) if is_prime(n)]\n"
   ]
  },
  {
   "cell_type": "code",
   "execution_count": 5,
   "id": "ac7f5cbe",
   "metadata": {},
   "outputs": [],
   "source": [
    "# 5. Iterator class for Fibonacci sequence\n",
    "class Fibonacci:\n",
    "    def __init__(self, terms):\n",
    "        self.terms = terms\n",
    "        self.a, self.b = 0, 1\n",
    "        self.count = 0\n",
    "\n",
    "    def __iter__(self):\n",
    "        return self\n",
    "\n",
    "    def __next__(self):\n",
    "        if self.count >= self.terms:\n",
    "            raise StopIteration\n",
    "        self.count += 1\n",
    "        self.a, self.b = self.b, self.a + self.b\n",
    "        return self.a"
   ]
  },
  {
   "cell_type": "code",
   "execution_count": 6,
   "id": "9b47051a",
   "metadata": {},
   "outputs": [],
   "source": [
    "# 6. Generator function for powers of 2\n",
    "def powers_of_2(exponent):\n",
    "    for i in range(exponent + 1):\n",
    "        yield 2 ** i\n",
    "\n",
    "# 7. Generator function to read a file line by line\n",
    "def read_file_line_by_line(file_path):\n",
    "    with open(file_path, 'r') as file:\n",
    "        for line in file:\n",
    "            yield line.strip()"
   ]
  },
  {
   "cell_type": "code",
   "execution_count": 7,
   "id": "3f731370",
   "metadata": {},
   "outputs": [],
   "source": [
    "# 8. Sorting list of tuples based on second element using lambda\n",
    "tuples_list = [(1, 3), (4, 1), (2, 5), (3, 2)]\n",
    "sorted_tuples = sorted(tuples_list, key=lambda x: x[1])\n"
   ]
  },
  {
   "cell_type": "code",
   "execution_count": 8,
   "id": "16632ad4",
   "metadata": {},
   "outputs": [],
   "source": [
    "# 9. Using map() to convert Celsius to Fahrenheit\n",
    "celsius_temps = [0, 10, 20, 30, 40]\n",
    "fahrenheit_temps = list(map(lambda c: (c * 9/5) + 32, celsius_temps))"
   ]
  },
  {
   "cell_type": "code",
   "execution_count": 9,
   "id": "0f883a73",
   "metadata": {},
   "outputs": [],
   "source": [
    "# 10. Using filter() to remove vowels from a string\n",
    "def remove_vowels(s):\n",
    "    return ''.join(filter(lambda x: x.lower() not in 'aeiou', s))"
   ]
  },
  {
   "cell_type": "code",
   "execution_count": 10,
   "id": "c0a7fd09",
   "metadata": {},
   "outputs": [
    {
     "name": "stdout",
     "output_type": "stream",
     "text": [
      "Celsius to Fahrenheit: [32.0, 50.0, 68.0, 86.0, 104.0, 122.0]\n",
      "Squared Numbers: [1, 4, 9, 16, 25]\n",
      "Uppercase Words: ['HELLO', 'WORLD', 'PYTHON', 'LAMBDA']\n"
     ]
    }
   ],
   "source": [
    "# Convert a list of temperatures from Celsius to Fahrenheit using lambda and map\n",
    "celsius_temps = [0, 10, 20, 30, 40, 50]\n",
    "fahrenheit_temps = list(map(lambda c: (c * 9/5) + 32, celsius_temps))\n",
    "\n",
    "# Square each number in a list using lambda and map\n",
    "numbers = [1, 2, 3, 4, 5]\n",
    "squared_numbers = list(map(lambda x: x ** 2, numbers))\n",
    "\n",
    "# Convert a list of words to uppercase using lambda and map\n",
    "words = [\"hello\", \"world\", \"python\", \"lambda\"]\n",
    "uppercase_words = list(map(lambda word: word.upper(), words))\n",
    "\n",
    "# Example output\n",
    "print(\"Celsius to Fahrenheit:\", fahrenheit_temps)\n",
    "print(\"Squared Numbers:\", squared_numbers)\n",
    "print(\"Uppercase Words:\", uppercase_words)\n"
   ]
  },
  {
   "cell_type": "code",
   "execution_count": null,
   "id": "4db942ea",
   "metadata": {},
   "outputs": [],
   "source": []
  }
 ],
 "metadata": {
  "kernelspec": {
   "display_name": "Python 3 (ipykernel)",
   "language": "python",
   "name": "python3"
  },
  "language_info": {
   "codemirror_mode": {
    "name": "ipython",
    "version": 3
   },
   "file_extension": ".py",
   "mimetype": "text/x-python",
   "name": "python",
   "nbconvert_exporter": "python",
   "pygments_lexer": "ipython3",
   "version": "3.10.9"
  }
 },
 "nbformat": 4,
 "nbformat_minor": 5
}
